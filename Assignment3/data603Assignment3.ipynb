{
  "nbformat": 4,
  "nbformat_minor": 0,
  "metadata": {
    "colab": {
      "provenance": []
    },
    "kernelspec": {
      "name": "python3",
      "display_name": "Python 3"
    },
    "language_info": {
      "name": "python"
    }
  },
  "cells": [
    {
      "cell_type": "code",
      "execution_count": 84,
      "metadata": {
        "colab": {
          "base_uri": "https://localhost:8080/"
        },
        "id": "PVbEFUd4AZtB",
        "outputId": "b4eea0ae-6f6a-4489-9387-13f15d9d017c"
      },
      "outputs": [
        {
          "output_type": "stream",
          "name": "stdout",
          "text": [
            "Looking in indexes: https://pypi.org/simple, https://us-python.pkg.dev/colab-wheels/public/simple/\n",
            "Requirement already satisfied: pyspark in /usr/local/lib/python3.9/dist-packages (3.3.2)\n",
            "Requirement already satisfied: py4j==0.10.9.5 in /usr/local/lib/python3.9/dist-packages (from pyspark) (0.10.9.5)\n"
          ]
        }
      ],
      "source": [
        "!pip install pyspark"
      ]
    },
    {
      "cell_type": "code",
      "source": [
        "# Create a Spark session"
      ],
      "metadata": {
        "id": "HeawhY_1BKHd"
      },
      "execution_count": 85,
      "outputs": []
    },
    {
      "cell_type": "code",
      "source": [
        "from pyspark.sql import SparkSession\n",
        "\n",
        "spark = SparkSession.builder.appName(\"ChicagoCrimeAnalysis\").getOrCreate()\n"
      ],
      "metadata": {
        "id": "Aufm8bCrAluX"
      },
      "execution_count": 86,
      "outputs": []
    },
    {
      "cell_type": "code",
      "source": [
        "# Define the schema for loading the Chicago crime dataset"
      ],
      "metadata": {
        "id": "w3Cty5BuBPK7"
      },
      "execution_count": 87,
      "outputs": []
    },
    {
      "cell_type": "code",
      "source": [
        "from pyspark.sql.types import StructType, StructField, IntegerType, StringType, TimestampType, FloatType\n",
        "\n",
        "Schema_Name = StructType([\n",
        "    StructField(\"ID\", IntegerType(), True),\n",
        "    StructField(\"CaseNumber\", StringType(), True),\n",
        "    StructField(\"Date\", StringType(), True),\n",
        "    StructField(\"Block\", StringType(), True),\n",
        "    StructField(\"IUCR\", StringType(), True),\n",
        "    StructField(\"PrimaryType\", StringType(), True),\n",
        "    StructField(\"Description\", StringType(), True),\n",
        "    StructField(\"LocationDescription\", StringType(), True),\n",
        "    StructField(\"Arrest\", StringType(), True),\n",
        "    StructField(\"Domestic\", StringType(), True),\n",
        "    StructField(\"Beat\", IntegerType(), True),\n",
        "    StructField(\"District\", IntegerType(), True),\n",
        "    StructField(\"Ward\", IntegerType(), True),\n",
        "    StructField(\"CommunityArea\", IntegerType(), True),\n",
        "    StructField(\"FBICode\", StringType(), True),\n",
        "    StructField(\"XCoordinate\", FloatType(), True),\n",
        "    StructField(\"YCoordinate\", FloatType(), True),\n",
        "    StructField(\"Year\", IntegerType(), True),\n",
        "    StructField(\"UpdatedOn\", TimestampType(), True),\n",
        "    StructField(\"Latitude\", FloatType(), True),\n",
        "    StructField(\"Longitude\", FloatType(), True),\n",
        "    StructField(\"Location\", StringType(), True)\n",
        "])\n"
      ],
      "metadata": {
        "id": "IMxMAlgJBZPs"
      },
      "execution_count": 88,
      "outputs": []
    },
    {
      "cell_type": "code",
      "source": [
        "# Load the Chicago crime data\n",
        "dataDF = spark.read.format(\"csv\") \\\n",
        "    .option(\"header\", \"true\") \\\n",
        "    .option(\"delimiter\", \",\") \\\n",
        "    .schema(Schema_Name) \\\n",
        "    .load(\"Crimes_-_2001_to_Present.csv\")\n",
        "\n",
        "dataDF.show()"
      ],
      "metadata": {
        "colab": {
          "base_uri": "https://localhost:8080/"
        },
        "id": "iZONihVWBZV_",
        "outputId": "1129decf-627c-4412-bc27-5a4aefae942d"
      },
      "execution_count": 89,
      "outputs": [
        {
          "output_type": "stream",
          "name": "stdout",
          "text": [
            "+--------+----------+--------------------+--------------------+----+------------------+--------------------+--------------------+------+--------+----+--------+----+-------------+-------+-----------+-----------+----+---------+---------+----------+--------------------+\n",
            "|      ID|CaseNumber|                Date|               Block|IUCR|       PrimaryType|         Description| LocationDescription|Arrest|Domestic|Beat|District|Ward|CommunityArea|FBICode|XCoordinate|YCoordinate|Year|UpdatedOn| Latitude| Longitude|            Location|\n",
            "+--------+----------+--------------------+--------------------+----+------------------+--------------------+--------------------+------+--------+----+--------+----+-------------+-------+-----------+-----------+----+---------+---------+----------+--------------------+\n",
            "|10224738|  HY411648|09/05/2015 01:30:...|     043XX S WOOD ST|0486|           BATTERY|DOMESTIC BATTERY ...|           RESIDENCE| false|    true| 924|       9|  12|           61|    08B|  1165074.0|  1875917.0|2015|     null|41.815117|    -87.67|(41.815117282, -8...|\n",
            "|10224739|  HY411615|09/04/2015 11:30:...| 008XX N CENTRAL AVE|0870|             THEFT|      POCKET-PICKING|             CTA BUS| false|   false|1511|      15|  29|           25|     06|  1138875.0|  1904869.0|2015|     null| 41.89508|  -87.7654|(41.895080471, -8...|\n",
            "|11646166|  JC213529|09/01/2018 12:01:...|082XX S INGLESIDE...|0810|             THEFT|           OVER $500|           RESIDENCE| false|    true| 631|       6|   8|           44|     06|       null|       null|2018|     null|     null|      null|                null|\n",
            "|10224740|  HY411595|09/05/2015 12:45:...|   035XX W BARRY AVE|2023|         NARCOTICS|POSS: HEROIN(BRN/...|            SIDEWALK|  true|   false|1412|      14|  35|           21|     18|  1152037.0|  1920384.0|2015|     null|41.937405| -87.71665|(41.937405765, -8...|\n",
            "|10224741|  HY411610|09/05/2015 01:00:...| 0000X N LARAMIE AVE|0560|           ASSAULT|              SIMPLE|           APARTMENT| false|    true|1522|      15|  28|           25|    08A|  1141706.0|  1900086.0|2015|     null|41.881905| -87.75512|(41.881903443, -8...|\n",
            "|10224742|  HY411435|09/05/2015 10:55:...| 082XX S LOOMIS BLVD|0610|          BURGLARY|      FORCIBLE ENTRY|           RESIDENCE| false|   false| 614|       6|  21|           71|     05|  1168430.0|  1850165.0|2015|     null|41.744377| -87.65843|(41.744378879, -8...|\n",
            "|10224743|  HY411629|09/04/2015 06:00:...|021XX W CHURCHILL ST|0620|          BURGLARY|      UNLAWFUL ENTRY|    RESIDENCE-GARAGE| false|   false|1434|      14|  32|           24|     05|  1161628.0|  1912157.0|2015|     null|41.914635| -87.68163|(41.914635603, -8...|\n",
            "|10224744|  HY411605|09/05/2015 01:00:...|   025XX W CERMAK RD|0860|             THEFT|        RETAIL THEFT|  GROCERY FOOD STORE|  true|   false|1034|      10|  25|           31|     06|  1159734.0|  1889313.0|2015|     null| 41.85199| -87.68922|(41.851988885, -8...|\n",
            "|10224745|  HY411654|09/05/2015 11:30:...|031XX W WASHINGTO...|0320|           ROBBERY|STRONGARM - NO WE...|              STREET| false|    true|1222|      12|  27|           27|     03|  1155536.0|  1900515.0|2015|     null|41.882812| -87.70432|(41.88281374, -87...|\n",
            "|11645836|  JC212333|05/01/2016 12:25:...| 055XX S ROCKWELL ST|1153|DECEPTIVE PRACTICE|FINANCIAL IDENTIT...|                null| false|   false| 824|       8|  15|           63|     11|       null|       null|2016|     null|     null|      null|                null|\n",
            "|10224746|  HY411662|09/05/2015 02:00:...|  071XX S PULASKI RD|0820|             THEFT|      $500 AND UNDER|PARKING LOT/GARAG...| false|   false| 833|       8|  13|           65|     06|  1150938.0|  1857056.0|2015|     null| 41.76365| -87.72234|(41.763647552, -8...|\n",
            "|10224749|  HY411626|09/05/2015 11:00:...|052XX N MILWAUKEE...|0460|           BATTERY|              SIMPLE|  SMALL RETAIL STORE| false|   false|1623|      16|  45|           11|    08B|  1137969.0|  1934340.0|2015|     null|41.975967| -87.76801|(41.975968415, -8...|\n",
            "|10224750|  HY411632|09/05/2015 03:00:...|    0000X W 103RD ST|2820|     OTHER OFFENSE|    TELEPHONE THREAT|           APARTMENT| false|    true| 512|       5|  34|           49|     26|  1177871.0|  1836676.0|2015|     null|41.707153|-87.624245|(41.707154919, -8...|\n",
            "|10224751|  HY411566|09/05/2015 12:50:...|     013XX E 47TH ST|0486|           BATTERY|DOMESTIC BATTERY ...|              STREET| false|    true| 222|       2|   4|           39|    08B|  1185907.0|  1874105.0|2015|     null|41.809677|-87.593636|(41.809678314, -8...|\n",
            "|10224752|  HY411601|09/03/2015 01:00:...| 020XX W SCHILLER ST|0810|             THEFT|           OVER $500|              STREET| false|   false|1424|      14|   1|           24|     06|  1162574.0|  1909428.0|2015|     null|41.907127| -87.67823|(41.907127255, -8...|\n",
            "|10224753|  HY411489|09/05/2015 11:45:...|  080XX S JUSTINE ST|0497|           BATTERY|AGGRAVATED DOMEST...|           APARTMENT| false|   false| 612|       6|  21|           71|    04B|  1167400.0|  1851512.0|2015|     null|41.748096| -87.66216|(41.748097343, -8...|\n",
            "|10224754|  HY411656|09/05/2015 01:30:...|007XX N LEAMINGTO...|1320|   CRIMINAL DAMAGE|          TO VEHICLE|              STREET| false|   false|1531|      15|  28|           25|     14|  1141889.0|  1904448.0|2015|     null| 41.89387| -87.75434|(41.893869916, -8...|\n",
            "|10224756|  HY410094|07/08/2015 12:00:...|103XX S TORRENCE AVE|0620|          BURGLARY|      UNLAWFUL ENTRY|               OTHER| false|   false| 434|       4|  10|           51|     05|  1195508.0|  1836950.0|2015|     null| 41.70749| -87.55965|(41.707490122, -8...|\n",
            "|10224757|  HY411388|09/05/2015 09:55:...|  088XX S PAULINA ST|0610|          BURGLARY|      FORCIBLE ENTRY|           RESIDENCE|  true|   false|2221|      22|  21|           71|     05|  1166554.0|  1846067.0|2015|     null|41.733173| -87.66542|(41.733173536, -8...|\n",
            "|10224758|  HY411568|09/05/2015 12:35:...|    059XX W GRACE ST|0486|           BATTERY|DOMESTIC BATTERY ...|              STREET| false|    true|1633|      16|  38|           15|    08B|  1136014.0|  1924656.0|2015|     null| 41.94943| -87.77544|(41.949429769, -8...|\n",
            "+--------+----------+--------------------+--------------------+----+------------------+--------------------+--------------------+------+--------+----+--------+----+-------------+-------+-----------+-----------+----+---------+---------+----------+--------------------+\n",
            "only showing top 20 rows\n",
            "\n"
          ]
        }
      ]
    },
    {
      "cell_type": "code",
      "source": [
        "# Clean the data:\n",
        "     # a)Remove all null values.\n",
        "     # b)Change 'Date' column data type"
      ],
      "metadata": {
        "id": "7Khwm-ghCzPT"
      },
      "execution_count": 90,
      "outputs": []
    },
    {
      "cell_type": "code",
      "source": [
        "from pyspark.sql.functions import *\n",
        "\n",
        "# Remove all null values\n",
        "df = dataDF.fillna({\n",
        "    \"PrimaryType\": \"Other\",\n",
        "    \"Description\": \"No description available\"\n",
        "})\n",
        "df.show()"
      ],
      "metadata": {
        "id": "CVYvBNjIEprR",
        "colab": {
          "base_uri": "https://localhost:8080/"
        },
        "outputId": "9b2baada-22d3-4d2c-db66-3a96a864d43a"
      },
      "execution_count": 91,
      "outputs": [
        {
          "output_type": "stream",
          "name": "stdout",
          "text": [
            "+--------+----------+--------------------+--------------------+----+------------------+--------------------+--------------------+------+--------+----+--------+----+-------------+-------+-----------+-----------+----+---------+---------+----------+--------------------+\n",
            "|      ID|CaseNumber|                Date|               Block|IUCR|       PrimaryType|         Description| LocationDescription|Arrest|Domestic|Beat|District|Ward|CommunityArea|FBICode|XCoordinate|YCoordinate|Year|UpdatedOn| Latitude| Longitude|            Location|\n",
            "+--------+----------+--------------------+--------------------+----+------------------+--------------------+--------------------+------+--------+----+--------+----+-------------+-------+-----------+-----------+----+---------+---------+----------+--------------------+\n",
            "|10224738|  HY411648|09/05/2015 01:30:...|     043XX S WOOD ST|0486|           BATTERY|DOMESTIC BATTERY ...|           RESIDENCE| false|    true| 924|       9|  12|           61|    08B|  1165074.0|  1875917.0|2015|     null|41.815117|    -87.67|(41.815117282, -8...|\n",
            "|10224739|  HY411615|09/04/2015 11:30:...| 008XX N CENTRAL AVE|0870|             THEFT|      POCKET-PICKING|             CTA BUS| false|   false|1511|      15|  29|           25|     06|  1138875.0|  1904869.0|2015|     null| 41.89508|  -87.7654|(41.895080471, -8...|\n",
            "|11646166|  JC213529|09/01/2018 12:01:...|082XX S INGLESIDE...|0810|             THEFT|           OVER $500|           RESIDENCE| false|    true| 631|       6|   8|           44|     06|       null|       null|2018|     null|     null|      null|                null|\n",
            "|10224740|  HY411595|09/05/2015 12:45:...|   035XX W BARRY AVE|2023|         NARCOTICS|POSS: HEROIN(BRN/...|            SIDEWALK|  true|   false|1412|      14|  35|           21|     18|  1152037.0|  1920384.0|2015|     null|41.937405| -87.71665|(41.937405765, -8...|\n",
            "|10224741|  HY411610|09/05/2015 01:00:...| 0000X N LARAMIE AVE|0560|           ASSAULT|              SIMPLE|           APARTMENT| false|    true|1522|      15|  28|           25|    08A|  1141706.0|  1900086.0|2015|     null|41.881905| -87.75512|(41.881903443, -8...|\n",
            "|10224742|  HY411435|09/05/2015 10:55:...| 082XX S LOOMIS BLVD|0610|          BURGLARY|      FORCIBLE ENTRY|           RESIDENCE| false|   false| 614|       6|  21|           71|     05|  1168430.0|  1850165.0|2015|     null|41.744377| -87.65843|(41.744378879, -8...|\n",
            "|10224743|  HY411629|09/04/2015 06:00:...|021XX W CHURCHILL ST|0620|          BURGLARY|      UNLAWFUL ENTRY|    RESIDENCE-GARAGE| false|   false|1434|      14|  32|           24|     05|  1161628.0|  1912157.0|2015|     null|41.914635| -87.68163|(41.914635603, -8...|\n",
            "|10224744|  HY411605|09/05/2015 01:00:...|   025XX W CERMAK RD|0860|             THEFT|        RETAIL THEFT|  GROCERY FOOD STORE|  true|   false|1034|      10|  25|           31|     06|  1159734.0|  1889313.0|2015|     null| 41.85199| -87.68922|(41.851988885, -8...|\n",
            "|10224745|  HY411654|09/05/2015 11:30:...|031XX W WASHINGTO...|0320|           ROBBERY|STRONGARM - NO WE...|              STREET| false|    true|1222|      12|  27|           27|     03|  1155536.0|  1900515.0|2015|     null|41.882812| -87.70432|(41.88281374, -87...|\n",
            "|11645836|  JC212333|05/01/2016 12:25:...| 055XX S ROCKWELL ST|1153|DECEPTIVE PRACTICE|FINANCIAL IDENTIT...|                null| false|   false| 824|       8|  15|           63|     11|       null|       null|2016|     null|     null|      null|                null|\n",
            "|10224746|  HY411662|09/05/2015 02:00:...|  071XX S PULASKI RD|0820|             THEFT|      $500 AND UNDER|PARKING LOT/GARAG...| false|   false| 833|       8|  13|           65|     06|  1150938.0|  1857056.0|2015|     null| 41.76365| -87.72234|(41.763647552, -8...|\n",
            "|10224749|  HY411626|09/05/2015 11:00:...|052XX N MILWAUKEE...|0460|           BATTERY|              SIMPLE|  SMALL RETAIL STORE| false|   false|1623|      16|  45|           11|    08B|  1137969.0|  1934340.0|2015|     null|41.975967| -87.76801|(41.975968415, -8...|\n",
            "|10224750|  HY411632|09/05/2015 03:00:...|    0000X W 103RD ST|2820|     OTHER OFFENSE|    TELEPHONE THREAT|           APARTMENT| false|    true| 512|       5|  34|           49|     26|  1177871.0|  1836676.0|2015|     null|41.707153|-87.624245|(41.707154919, -8...|\n",
            "|10224751|  HY411566|09/05/2015 12:50:...|     013XX E 47TH ST|0486|           BATTERY|DOMESTIC BATTERY ...|              STREET| false|    true| 222|       2|   4|           39|    08B|  1185907.0|  1874105.0|2015|     null|41.809677|-87.593636|(41.809678314, -8...|\n",
            "|10224752|  HY411601|09/03/2015 01:00:...| 020XX W SCHILLER ST|0810|             THEFT|           OVER $500|              STREET| false|   false|1424|      14|   1|           24|     06|  1162574.0|  1909428.0|2015|     null|41.907127| -87.67823|(41.907127255, -8...|\n",
            "|10224753|  HY411489|09/05/2015 11:45:...|  080XX S JUSTINE ST|0497|           BATTERY|AGGRAVATED DOMEST...|           APARTMENT| false|   false| 612|       6|  21|           71|    04B|  1167400.0|  1851512.0|2015|     null|41.748096| -87.66216|(41.748097343, -8...|\n",
            "|10224754|  HY411656|09/05/2015 01:30:...|007XX N LEAMINGTO...|1320|   CRIMINAL DAMAGE|          TO VEHICLE|              STREET| false|   false|1531|      15|  28|           25|     14|  1141889.0|  1904448.0|2015|     null| 41.89387| -87.75434|(41.893869916, -8...|\n",
            "|10224756|  HY410094|07/08/2015 12:00:...|103XX S TORRENCE AVE|0620|          BURGLARY|      UNLAWFUL ENTRY|               OTHER| false|   false| 434|       4|  10|           51|     05|  1195508.0|  1836950.0|2015|     null| 41.70749| -87.55965|(41.707490122, -8...|\n",
            "|10224757|  HY411388|09/05/2015 09:55:...|  088XX S PAULINA ST|0610|          BURGLARY|      FORCIBLE ENTRY|           RESIDENCE|  true|   false|2221|      22|  21|           71|     05|  1166554.0|  1846067.0|2015|     null|41.733173| -87.66542|(41.733173536, -8...|\n",
            "|10224758|  HY411568|09/05/2015 12:35:...|    059XX W GRACE ST|0486|           BATTERY|DOMESTIC BATTERY ...|              STREET| false|    true|1633|      16|  38|           15|    08B|  1136014.0|  1924656.0|2015|     null| 41.94943| -87.77544|(41.949429769, -8...|\n",
            "+--------+----------+--------------------+--------------------+----+------------------+--------------------+--------------------+------+--------+----+--------+----+-------------+-------+-----------+-----------+----+---------+---------+----------+--------------------+\n",
            "only showing top 20 rows\n",
            "\n"
          ]
        }
      ]
    },
    {
      "cell_type": "code",
      "source": [
        "# Change 'Date' column data type\n",
        "df = df.withColumn(\"Date\", to_timestamp(\"Date\", \"MM/dd/yyyy hh:mm:ss a\"))\n",
        "df.printSchema()"
      ],
      "metadata": {
        "id": "ACuVib4KE9ei",
        "colab": {
          "base_uri": "https://localhost:8080/"
        },
        "outputId": "62a69424-95b0-46ba-b2aa-3c1369f86b63"
      },
      "execution_count": 92,
      "outputs": [
        {
          "output_type": "stream",
          "name": "stdout",
          "text": [
            "root\n",
            " |-- ID: integer (nullable = true)\n",
            " |-- CaseNumber: string (nullable = true)\n",
            " |-- Date: timestamp (nullable = true)\n",
            " |-- Block: string (nullable = true)\n",
            " |-- IUCR: string (nullable = true)\n",
            " |-- PrimaryType: string (nullable = false)\n",
            " |-- Description: string (nullable = false)\n",
            " |-- LocationDescription: string (nullable = true)\n",
            " |-- Arrest: string (nullable = true)\n",
            " |-- Domestic: string (nullable = true)\n",
            " |-- Beat: integer (nullable = true)\n",
            " |-- District: integer (nullable = true)\n",
            " |-- Ward: integer (nullable = true)\n",
            " |-- CommunityArea: integer (nullable = true)\n",
            " |-- FBICode: string (nullable = true)\n",
            " |-- XCoordinate: float (nullable = true)\n",
            " |-- YCoordinate: float (nullable = true)\n",
            " |-- Year: integer (nullable = true)\n",
            " |-- UpdatedOn: timestamp (nullable = true)\n",
            " |-- Latitude: float (nullable = true)\n",
            " |-- Longitude: float (nullable = true)\n",
            " |-- Location: string (nullable = true)\n",
            "\n"
          ]
        }
      ]
    },
    {
      "cell_type": "code",
      "source": [
        "# Filter the data for last ten years\n",
        "df = df.filter(col(\"Year\") >= 2013)\n",
        "df.show()"
      ],
      "metadata": {
        "id": "SdVN4toTE9hV",
        "colab": {
          "base_uri": "https://localhost:8080/"
        },
        "outputId": "ab18d6db-ddd2-4b2a-cadb-86fd2afa0b66"
      },
      "execution_count": 93,
      "outputs": [
        {
          "output_type": "stream",
          "name": "stdout",
          "text": [
            "+--------+----------+-------------------+--------------------+----+------------------+--------------------+--------------------+------+--------+----+--------+----+-------------+-------+-----------+-----------+----+---------+---------+----------+--------------------+\n",
            "|      ID|CaseNumber|               Date|               Block|IUCR|       PrimaryType|         Description| LocationDescription|Arrest|Domestic|Beat|District|Ward|CommunityArea|FBICode|XCoordinate|YCoordinate|Year|UpdatedOn| Latitude| Longitude|            Location|\n",
            "+--------+----------+-------------------+--------------------+----+------------------+--------------------+--------------------+------+--------+----+--------+----+-------------+-------+-----------+-----------+----+---------+---------+----------+--------------------+\n",
            "|10224738|  HY411648|2015-09-05 13:30:00|     043XX S WOOD ST|0486|           BATTERY|DOMESTIC BATTERY ...|           RESIDENCE| false|    true| 924|       9|  12|           61|    08B|  1165074.0|  1875917.0|2015|     null|41.815117|    -87.67|(41.815117282, -8...|\n",
            "|10224739|  HY411615|2015-09-04 11:30:00| 008XX N CENTRAL AVE|0870|             THEFT|      POCKET-PICKING|             CTA BUS| false|   false|1511|      15|  29|           25|     06|  1138875.0|  1904869.0|2015|     null| 41.89508|  -87.7654|(41.895080471, -8...|\n",
            "|11646166|  JC213529|2018-09-01 00:01:00|082XX S INGLESIDE...|0810|             THEFT|           OVER $500|           RESIDENCE| false|    true| 631|       6|   8|           44|     06|       null|       null|2018|     null|     null|      null|                null|\n",
            "|10224740|  HY411595|2015-09-05 12:45:00|   035XX W BARRY AVE|2023|         NARCOTICS|POSS: HEROIN(BRN/...|            SIDEWALK|  true|   false|1412|      14|  35|           21|     18|  1152037.0|  1920384.0|2015|     null|41.937405| -87.71665|(41.937405765, -8...|\n",
            "|10224741|  HY411610|2015-09-05 13:00:00| 0000X N LARAMIE AVE|0560|           ASSAULT|              SIMPLE|           APARTMENT| false|    true|1522|      15|  28|           25|    08A|  1141706.0|  1900086.0|2015|     null|41.881905| -87.75512|(41.881903443, -8...|\n",
            "|10224742|  HY411435|2015-09-05 10:55:00| 082XX S LOOMIS BLVD|0610|          BURGLARY|      FORCIBLE ENTRY|           RESIDENCE| false|   false| 614|       6|  21|           71|     05|  1168430.0|  1850165.0|2015|     null|41.744377| -87.65843|(41.744378879, -8...|\n",
            "|10224743|  HY411629|2015-09-04 18:00:00|021XX W CHURCHILL ST|0620|          BURGLARY|      UNLAWFUL ENTRY|    RESIDENCE-GARAGE| false|   false|1434|      14|  32|           24|     05|  1161628.0|  1912157.0|2015|     null|41.914635| -87.68163|(41.914635603, -8...|\n",
            "|10224744|  HY411605|2015-09-05 13:00:00|   025XX W CERMAK RD|0860|             THEFT|        RETAIL THEFT|  GROCERY FOOD STORE|  true|   false|1034|      10|  25|           31|     06|  1159734.0|  1889313.0|2015|     null| 41.85199| -87.68922|(41.851988885, -8...|\n",
            "|10224745|  HY411654|2015-09-05 11:30:00|031XX W WASHINGTO...|0320|           ROBBERY|STRONGARM - NO WE...|              STREET| false|    true|1222|      12|  27|           27|     03|  1155536.0|  1900515.0|2015|     null|41.882812| -87.70432|(41.88281374, -87...|\n",
            "|11645836|  JC212333|2016-05-01 00:25:00| 055XX S ROCKWELL ST|1153|DECEPTIVE PRACTICE|FINANCIAL IDENTIT...|                null| false|   false| 824|       8|  15|           63|     11|       null|       null|2016|     null|     null|      null|                null|\n",
            "|10224746|  HY411662|2015-09-05 14:00:00|  071XX S PULASKI RD|0820|             THEFT|      $500 AND UNDER|PARKING LOT/GARAG...| false|   false| 833|       8|  13|           65|     06|  1150938.0|  1857056.0|2015|     null| 41.76365| -87.72234|(41.763647552, -8...|\n",
            "|10224749|  HY411626|2015-09-05 11:00:00|052XX N MILWAUKEE...|0460|           BATTERY|              SIMPLE|  SMALL RETAIL STORE| false|   false|1623|      16|  45|           11|    08B|  1137969.0|  1934340.0|2015|     null|41.975967| -87.76801|(41.975968415, -8...|\n",
            "|10224750|  HY411632|2015-09-05 03:00:00|    0000X W 103RD ST|2820|     OTHER OFFENSE|    TELEPHONE THREAT|           APARTMENT| false|    true| 512|       5|  34|           49|     26|  1177871.0|  1836676.0|2015|     null|41.707153|-87.624245|(41.707154919, -8...|\n",
            "|10224751|  HY411566|2015-09-05 12:50:00|     013XX E 47TH ST|0486|           BATTERY|DOMESTIC BATTERY ...|              STREET| false|    true| 222|       2|   4|           39|    08B|  1185907.0|  1874105.0|2015|     null|41.809677|-87.593636|(41.809678314, -8...|\n",
            "|10224752|  HY411601|2015-09-03 13:00:00| 020XX W SCHILLER ST|0810|             THEFT|           OVER $500|              STREET| false|   false|1424|      14|   1|           24|     06|  1162574.0|  1909428.0|2015|     null|41.907127| -87.67823|(41.907127255, -8...|\n",
            "|10224753|  HY411489|2015-09-05 11:45:00|  080XX S JUSTINE ST|0497|           BATTERY|AGGRAVATED DOMEST...|           APARTMENT| false|   false| 612|       6|  21|           71|    04B|  1167400.0|  1851512.0|2015|     null|41.748096| -87.66216|(41.748097343, -8...|\n",
            "|10224754|  HY411656|2015-09-05 13:30:00|007XX N LEAMINGTO...|1320|   CRIMINAL DAMAGE|          TO VEHICLE|              STREET| false|   false|1531|      15|  28|           25|     14|  1141889.0|  1904448.0|2015|     null| 41.89387| -87.75434|(41.893869916, -8...|\n",
            "|10224756|  HY410094|2015-07-08 00:00:00|103XX S TORRENCE AVE|0620|          BURGLARY|      UNLAWFUL ENTRY|               OTHER| false|   false| 434|       4|  10|           51|     05|  1195508.0|  1836950.0|2015|     null| 41.70749| -87.55965|(41.707490122, -8...|\n",
            "|10224757|  HY411388|2015-09-05 09:55:00|  088XX S PAULINA ST|0610|          BURGLARY|      FORCIBLE ENTRY|           RESIDENCE|  true|   false|2221|      22|  21|           71|     05|  1166554.0|  1846067.0|2015|     null|41.733173| -87.66542|(41.733173536, -8...|\n",
            "|10224758|  HY411568|2015-09-05 12:35:00|    059XX W GRACE ST|0486|           BATTERY|DOMESTIC BATTERY ...|              STREET| false|    true|1633|      16|  38|           15|    08B|  1136014.0|  1924656.0|2015|     null| 41.94943| -87.77544|(41.949429769, -8...|\n",
            "+--------+----------+-------------------+--------------------+----+------------------+--------------------+--------------------+------+--------+----+--------+----+-------------+-------+-----------+-----------+----+---------+---------+----------+--------------------+\n",
            "only showing top 20 rows\n",
            "\n"
          ]
        }
      ]
    },
    {
      "cell_type": "code",
      "source": [
        "# Remove all the records with the following crime types\n",
        "df = df.filter(col(\"PrimaryType\").isin([\n",
        "    \"NON-CRIMINAL (SUBJECT SPECIFIED)\",\n",
        "    \"OTHER OFFENSE\",\n",
        "    \"STALKING\",\n",
        "    \"NON - CRIMINAL\",\n",
        "    \"ARSON\"\n",
        "]) == False)"
      ],
      "metadata": {
        "id": "NVc7X6LqE9j-"
      },
      "execution_count": 94,
      "outputs": []
    },
    {
      "cell_type": "code",
      "source": [
        "# Merge the similar crime types\n",
        "dataDF = dataDF.withColumn(\"PrimaryType\", when(col(\"PrimaryType\").isin([\"SEX OFFENSE\", \"PROSTITUTION\"]), \"SEX OFFENSE/PROSTITUTION\").otherwise(col(\"PrimaryType\")))"
      ],
      "metadata": {
        "id": "UfTgOwRqE9mT"
      },
      "execution_count": 95,
      "outputs": []
    },
    {
      "cell_type": "code",
      "source": [
        "# Analyze the data and present results:\n",
        "# Show year-wise trend of the crime for last ten years.\n",
        "yearwise_crime = df.groupBy(\"Year\").count().orderBy(\"Year\")\n",
        "yearwise_crime.show()\n"
      ],
      "metadata": {
        "id": "cYpzLOJnE9p7",
        "colab": {
          "base_uri": "https://localhost:8080/"
        },
        "outputId": "0ff253fe-e6a7-408a-e953-9df49b2a0dbf"
      },
      "execution_count": 96,
      "outputs": [
        {
          "output_type": "stream",
          "name": "stdout",
          "text": [
            "+----+------+\n",
            "|Year| count|\n",
            "+----+------+\n",
            "|2013|   617|\n",
            "|2014|  1345|\n",
            "|2015|147948|\n",
            "|2016|244138|\n",
            "|2017|243680|\n",
            "|2018|243458|\n",
            "|2019|104583|\n",
            "|2020| 16104|\n",
            "|2021|  2349|\n",
            "|2022|  1219|\n",
            "+----+------+\n",
            "\n"
          ]
        }
      ]
    },
    {
      "cell_type": "code",
      "source": [
        "import seaborn as sns\n",
        "import matplotlib.pyplot as plt\n",
        "\n",
        "# Group by Year and count the number of occurrences\n",
        "yearwise_crime = df.groupBy(\"Year\").count().orderBy(\"Year\")\n",
        "\n",
        "# Convert to Pandas DataFrame for plotting\n",
        "yearwise_crime_df = yearwise_crime.toPandas()\n",
        "\n",
        "# Plot the line chart\n",
        "sns.lineplot(x=\"Year\", y=\"count\", data=yearwise_crime_df)\n",
        "plt.xlabel(\"Year\")\n",
        "plt.ylabel(\"Total Count\")\n",
        "plt.title(\"Number of Crimes per Year\")\n",
        "plt.show()\n"
      ],
      "metadata": {
        "colab": {
          "base_uri": "https://localhost:8080/",
          "height": 472
        },
        "id": "0iS2BqfBTg8U",
        "outputId": "941d960d-17e9-4dc1-eb80-a5e6ec53ae96"
      },
      "execution_count": 97,
      "outputs": [
        {
          "output_type": "display_data",
          "data": {
            "text/plain": [
              "<Figure size 640x480 with 1 Axes>"
            ],
            "image/png": "[encoded data removed]"
          },
          "metadata": {}
        }
      ]
    },
    {
      "cell_type": "code",
      "source": [
        "# Find out at which hour of the day crime is highest.\n",
        "hourwise_crime = df.groupBy(hour(col(\"Date\")).alias(\"hour\")).count().orderBy(desc(\"count\"))\n",
        "hourwise_crime.show(1)\n"
      ],
      "metadata": {
        "colab": {
          "base_uri": "https://localhost:8080/"
        },
        "id": "lh45flSfPUhv",
        "outputId": "105f51bf-6949-49a2-f0f5-62c9cc8dea01"
      },
      "execution_count": 98,
      "outputs": [
        {
          "output_type": "stream",
          "name": "stdout",
          "text": [
            "+----+-----+\n",
            "|hour|count|\n",
            "+----+-----+\n",
            "|  12|59681|\n",
            "+----+-----+\n",
            "only showing top 1 row\n",
            "\n"
          ]
        }
      ]
    },
    {
      "cell_type": "code",
      "source": [
        "# Convert the Spark DataFrame to a Pandas DataFrame\n",
        "hourwise_crime_df = hourwise_crime.toPandas()\n",
        "\n",
        "# Plot the data using Seaborn\n",
        "sns.barplot(x=\"hour\", y=\"count\", data=hourwise_crime_df)\n",
        "plt.xlabel(\"Hour of the day\")\n",
        "plt.ylabel(\"Total Count\")\n",
        "plt.title(\"Hourly Crime Distribution\")\n",
        "plt.show()\n"
      ],
      "metadata": {
        "colab": {
          "base_uri": "https://localhost:8080/",
          "height": 472
        },
        "id": "llL-Hm2zUQtH",
        "outputId": "74d98151-01eb-4789-db1e-f340edc85b07"
      },
      "execution_count": 99,
      "outputs": [
        {
          "output_type": "display_data",
          "data": {
            "text/plain": [
              "<Figure size 640x480 with 1 Axes>"
            ],
            "image/png": "[encoded data removed]"
          },
          "metadata": {}
        }
      ]
    },
    {
      "cell_type": "code",
      "source": [
        "# Find top ten crimes and present them as a bar chart.\n",
        "from pyspark.sql.functions import desc\n",
        "\n",
        "# Group by Primary Type and count the number of occurrences\n",
        "topten_crimes = df.groupBy(\"PrimaryType\").count().orderBy(desc(\"count\")).limit(10)\n",
        "\n",
        "# Convert to Pandas DataFrame for plotting\n",
        "topten_crimes_df = topten_crimes.toPandas()\n",
        "\n",
        "topten_crimes_df\n",
        "\n",
        "\n"
      ],
      "metadata": {
        "colab": {
          "base_uri": "https://localhost:8080/",
          "height": 363
        },
        "id": "-9ApUxH7QNSh",
        "outputId": "30995b17-419c-430a-e5bf-23b60f7e6c37"
      },
      "execution_count": 101,
      "outputs": [
        {
          "output_type": "execute_result",
          "data": {
            "text/plain": [
              "           PrimaryType   count\n",
              "0                THEFT  251164\n",
              "1              BATTERY  201511\n",
              "2      CRIMINAL DAMAGE  119584\n",
              "3              ASSAULT   77782\n",
              "4   DECEPTIVE PRACTICE   75620\n",
              "5            NARCOTICS   57278\n",
              "6             BURGLARY   51962\n",
              "7  MOTOR VEHICLE THEFT   43496\n",
              "8              ROBBERY   42991\n",
              "9    CRIMINAL TRESPASS   27078"
            ],
            "text/html": [
              "\n",
              "  <div id=\"df-b2fe3d39-a071-4a5c-b7c9-0b53b1c6d251\">\n",
              "    <div class=\"colab-df-container\">\n",
              "      <div>\n",
              "<style scoped>\n",
              "    .dataframe tbody tr th:only-of-type {\n",
              "        vertical-align: middle;\n",
              "    }\n",
              "\n",
              "    .dataframe tbody tr th {\n",
              "        vertical-align: top;\n",
              "    }\n",
              "\n",
              "    .dataframe thead th {\n",
              "        text-align: right;\n",
              "    }\n",
              "</style>\n",
              "<table border=\"1\" class=\"dataframe\">\n",
              "  <thead>\n",
              "    <tr style=\"text-align: right;\">\n",
              "      <th></th>\n",
              "      <th>PrimaryType</th>\n",
              "      <th>count</th>\n",
              "    </tr>\n",
              "  </thead>\n",
              "  <tbody>\n",
              "    <tr>\n",
              "      <th>0</th>\n",
              "      <td>THEFT</td>\n",
              "      <td>251164</td>\n",
              "    </tr>\n",
              "    <tr>\n",
              "      <th>1</th>\n",
              "      <td>BATTERY</td>\n",
              "      <td>201511</td>\n",
              "    </tr>\n",
              "    <tr>\n",
              "      <th>2</th>\n",
              "      <td>CRIMINAL DAMAGE</td>\n",
              "      <td>119584</td>\n",
              "    </tr>\n",
              "    <tr>\n",
              "      <th>3</th>\n",
              "      <td>ASSAULT</td>\n",
              "      <td>77782</td>\n",
              "    </tr>\n",
              "    <tr>\n",
              "      <th>4</th>\n",
              "      <td>DECEPTIVE PRACTICE</td>\n",
              "      <td>75620</td>\n",
              "    </tr>\n",
              "    <tr>\n",
              "      <th>5</th>\n",
              "      <td>NARCOTICS</td>\n",
              "      <td>57278</td>\n",
              "    </tr>\n",
              "    <tr>\n",
              "      <th>6</th>\n",
              "      <td>BURGLARY</td>\n",
              "      <td>51962</td>\n",
              "    </tr>\n",
              "    <tr>\n",
              "      <th>7</th>\n",
              "      <td>MOTOR VEHICLE THEFT</td>\n",
              "      <td>43496</td>\n",
              "    </tr>\n",
              "    <tr>\n",
              "      <th>8</th>\n",
              "      <td>ROBBERY</td>\n",
              "      <td>42991</td>\n",
              "    </tr>\n",
              "    <tr>\n",
              "      <th>9</th>\n",
              "      <td>CRIMINAL TRESPASS</td>\n",
              "      <td>27078</td>\n",
              "    </tr>\n",
              "  </tbody>\n",
              "</table>\n",
              "</div>\n",
              "      <button class=\"colab-df-convert\" onclick=\"convertToInteractive('df-b2fe3d39-a071-4a5c-b7c9-0b53b1c6d251')\"\n",
              "              title=\"Convert this dataframe to an interactive table.\"\n",
              "              style=\"display:none;\">\n",
              "        \n",
              "  <svg xmlns=\"http://www.w3.org/2000/svg\" height=\"24px\"viewBox=\"0 0 24 24\"\n",
              "       width=\"24px\">\n",
              "    <path d=\"M0 0h24v24H0V0z\" fill=\"none\"/>\n",
              "    <path d=\"M18.56 5.44l.94 2.06.94-2.06 2.06-.94-2.06-.94-.94-2.06-.94 2.06-2.06.94zm-11 1L8.5 8.5l.94-2.06 2.06-.94-2.06-.94L8.5 2.5l-.94 2.06-2.06.94zm10 10l.94 2.06.94-2.06 2.06-.94-2.06-.94-.94-2.06-.94 2.06-2.06.94z\"/><path d=\"M17.41 7.96l-1.37-1.37c-.4-.4-.92-.59-1.43-.59-.52 0-1.04.2-1.43.59L10.3 9.45l-7.72 7.72c-.78.78-.78 2.05 0 2.83L4 21.41c.39.39.9.59 1.41.59.51 0 1.02-.2 1.41-.59l7.78-7.78 2.81-2.81c.8-.78.8-2.07 0-2.86zM5.41 20L4 18.59l7.72-7.72 1.47 1.35L5.41 20z\"/>\n",
              "  </svg>\n",
              "      </button>\n",
              "      \n",
              "  <style>\n",
              "    .colab-df-container {\n",
              "      display:flex;\n",
              "      flex-wrap:wrap;\n",
              "      gap: 12px;\n",
              "    }\n",
              "\n",
              "    .colab-df-convert {\n",
              "      background-color: #E8F0FE;\n",
              "      border: none;\n",
              "      border-radius: 50%;\n",
              "      cursor: pointer;\n",
              "      display: none;\n",
              "      fill: #1967D2;\n",
              "      height: 32px;\n",
              "      padding: 0 0 0 0;\n",
              "      width: 32px;\n",
              "    }\n",
              "\n",
              "    .colab-df-convert:hover {\n",
              "      background-color: #E2EBFA;\n",
              "      box-shadow: 0px 1px 2px rgba(60, 64, 67, 0.3), 0px 1px 3px 1px rgba(60, 64, 67, 0.15);\n",
              "      fill: #174EA6;\n",
              "    }\n",
              "\n",
              "    [theme=dark] .colab-df-convert {\n",
              "      background-color: #3B4455;\n",
              "      fill: #D2E3FC;\n",
              "    }\n",
              "\n",
              "    [theme=dark] .colab-df-convert:hover {\n",
              "      background-color: #434B5C;\n",
              "      box-shadow: 0px 1px 3px 1px rgba(0, 0, 0, 0.15);\n",
              "      filter: drop-shadow(0px 1px 2px rgba(0, 0, 0, 0.3));\n",
              "      fill: #FFFFFF;\n",
              "    }\n",
              "  </style>\n",
              "\n",
              "      <script>\n",
              "        const buttonEl =\n",
              "          document.querySelector('#df-b2fe3d39-a071-4a5c-b7c9-0b53b1c6d251 button.colab-df-convert');\n",
              "        buttonEl.style.display =\n",
              "          google.colab.kernel.accessAllowed ? 'block' : 'none';\n",
              "\n",
              "        async function convertToInteractive(key) {\n",
              "          const element = document.querySelector('#df-b2fe3d39-a071-4a5c-b7c9-0b53b1c6d251');\n",
              "          const dataTable =\n",
              "            await google.colab.kernel.invokeFunction('convertToInteractive',\n",
              "                                                     [key], {});\n",
              "          if (!dataTable) return;\n",
              "\n",
              "          const docLinkHtml = 'Like what you see? Visit the ' +\n",
              "            '<a target=\"_blank\" href=https://colab.research.google.com/notebooks/data_table.ipynb>data table notebook</a>'\n",
              "            + ' to learn more about interactive tables.';\n",
              "          element.innerHTML = '';\n",
              "          dataTable['output_type'] = 'display_data';\n",
              "          await google.colab.output.renderOutput(dataTable, element);\n",
              "          const docLink = document.createElement('div');\n",
              "          docLink.innerHTML = docLinkHtml;\n",
              "          element.appendChild(docLink);\n",
              "        }\n",
              "      </script>\n",
              "    </div>\n",
              "  </div>\n",
              "  "
            ]
          },
          "metadata": {},
          "execution_count": 101
        }
      ]
    },
    {
      "cell_type": "code",
      "source": [
        "# Plot the bar chart using Seaborn\n",
        "sns.barplot(x=\"PrimaryType\", y=\"count\", data=topten_crimes_df)\n",
        "plt.xticks(rotation=90)\n",
        "plt.xlabel(\"Crimes\")\n",
        "plt.ylabel(\"Total Count\")\n",
        "plt.title(\"Top Ten Crimes\")\n",
        "plt.show()"
      ],
      "metadata": {
        "colab": {
          "base_uri": "https://localhost:8080/",
          "height": 621
        },
        "id": "FS-1MogxQuv5",
        "outputId": "5b384df8-31db-43cc-9a8d-addef4156780"
      },
      "execution_count": 103,
      "outputs": [
        {
          "output_type": "display_data",
          "data": {
            "text/plain": [
              "<Figure size 640x480 with 1 Axes>"
            ],
            "image/png": "[encoded data removed]"
          },
          "metadata": {}
        }
      ]
    },
    {
      "cell_type": "code",
      "source": [],
      "metadata": {
        "id": "77ctkmJOS5HD"
      },
      "execution_count": null,
      "outputs": []
    }
  ]
}